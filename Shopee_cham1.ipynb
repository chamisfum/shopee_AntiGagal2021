{
  "nbformat": 4,
  "nbformat_minor": 0,
  "metadata": {
    "colab": {
      "name": "Shopee_cham1.ipynb",
      "provenance": [],
      "mount_file_id": "1PYI9wftoh99cbT_ZPP4o37DB_bbSbLE5",
      "authorship_tag": "ABX9TyNWtaUFpyGIWBpcGd1Q+4qe",
      "include_colab_link": true
    },
    "kernelspec": {
      "name": "python3",
      "display_name": "Python 3"
    }
  },
  "cells": [
    {
      "cell_type": "markdown",
      "metadata": {
        "id": "view-in-github",
        "colab_type": "text"
      },
      "source": [
        "<a href=\"https://colab.research.google.com/github/chamisfum/shopee_AntiGagal2021/blob/main/Shopee_cham1.ipynb\" target=\"_parent\"><img src=\"https://colab.research.google.com/assets/colab-badge.svg\" alt=\"Open In Colab\"/></a>"
      ]
    },
    {
      "cell_type": "code",
      "metadata": {
        "id": "4DwvKDhhK4pk"
      },
      "source": [
        "%cd /content/drive/MyDrive/RESEARCH\\ CENTER/RESEARCH "
      ],
      "execution_count": null,
      "outputs": []
    }
  ]
}