{
 "cells": [
  {
   "cell_type": "code",
   "execution_count": 1,
   "metadata": {},
   "outputs": [],
   "source": [
    "import pandas as pd\n",
    "import numpy as np\n",
    "import seaborn as sns"
   ]
  },
  {
   "cell_type": "markdown",
   "metadata": {},
   "source": [
    "### Read Data "
   ]
  },
  {
   "cell_type": "code",
   "execution_count": 31,
   "metadata": {},
   "outputs": [],
   "source": [
    "PATH = 'files/train.csv'\n",
    "\n",
    "def read_data(file_dir):\n",
    "    '''\n",
    "    Parameters\n",
    "    ----------\n",
    "    file_dir: path (string)\n",
    "        path to your dataset\n",
    "        \n",
    "    Returns\n",
    "    -------\n",
    "    data: DataFrame\n",
    "    '''\n",
    "    \n",
    "    data = pd.read_csv(PATH).set_index('id')\n",
    "    \n",
    "    return data"
   ]
  },
  {
   "cell_type": "code",
   "execution_count": 33,
   "metadata": {},
   "outputs": [],
   "source": [
    "data = read_data(PATH)"
   ]
  },
  {
   "cell_type": "code",
   "execution_count": 34,
   "metadata": {},
   "outputs": [
    {
     "data": {
      "text/html": [
       "<div>\n",
       "<style scoped>\n",
       "    .dataframe tbody tr th:only-of-type {\n",
       "        vertical-align: middle;\n",
       "    }\n",
       "\n",
       "    .dataframe tbody tr th {\n",
       "        vertical-align: top;\n",
       "    }\n",
       "\n",
       "    .dataframe thead th {\n",
       "        text-align: right;\n",
       "    }\n",
       "</style>\n",
       "<table border=\"1\" class=\"dataframe\">\n",
       "  <thead>\n",
       "    <tr style=\"text-align: right;\">\n",
       "      <th>id</th>\n",
       "      <th>0</th>\n",
       "      <th>1</th>\n",
       "      <th>2</th>\n",
       "      <th>3</th>\n",
       "      <th>4</th>\n",
       "      <th>5</th>\n",
       "      <th>6</th>\n",
       "      <th>7</th>\n",
       "      <th>8</th>\n",
       "      <th>9</th>\n",
       "    </tr>\n",
       "  </thead>\n",
       "  <tbody>\n",
       "    <tr>\n",
       "      <th>raw_address</th>\n",
       "      <td>jl kapuk timur delta sili iii lippo cika 11 a ...</td>\n",
       "      <td>aye, jati sampurna</td>\n",
       "      <td>setu siung 119 rt 5 1 13880 cipayung</td>\n",
       "      <td>toko dita, kertosono</td>\n",
       "      <td>jl. orde baru</td>\n",
       "      <td>raya samb gede, 299 toko bb kids</td>\n",
       "      <td>kem mel raya, no 4 bojong rawalumbu rt 1 36 ra...</td>\n",
       "      <td>tela keuramat kuta alam</td>\n",
       "      <td>gg. i wates magersari</td>\n",
       "      <td>bunga ncole ix 2</td>\n",
       "    </tr>\n",
       "    <tr>\n",
       "      <th>POI/street</th>\n",
       "      <td>/jl kapuk timur delta sili iii lippo cika</td>\n",
       "      <td>/</td>\n",
       "      <td>/siung</td>\n",
       "      <td>toko dita/</td>\n",
       "      <td>/jl. orde baru</td>\n",
       "      <td>toko bb kids/raya samb gede</td>\n",
       "      <td>/kem mel raya</td>\n",
       "      <td>/tela</td>\n",
       "      <td>/gg. i</td>\n",
       "      <td>/bunga ncole ix</td>\n",
       "    </tr>\n",
       "  </tbody>\n",
       "</table>\n",
       "</div>"
      ],
      "text/plain": [
       "id                                                           0  \\\n",
       "raw_address  jl kapuk timur delta sili iii lippo cika 11 a ...   \n",
       "POI/street           /jl kapuk timur delta sili iii lippo cika   \n",
       "\n",
       "id                            1                                     2  \\\n",
       "raw_address  aye, jati sampurna  setu siung 119 rt 5 1 13880 cipayung   \n",
       "POI/street                    /                                /siung   \n",
       "\n",
       "id                              3               4  \\\n",
       "raw_address  toko dita, kertosono   jl. orde baru   \n",
       "POI/street             toko dita/  /jl. orde baru   \n",
       "\n",
       "id                                          5  \\\n",
       "raw_address  raya samb gede, 299 toko bb kids   \n",
       "POI/street        toko bb kids/raya samb gede   \n",
       "\n",
       "id                                                           6  \\\n",
       "raw_address  kem mel raya, no 4 bojong rawalumbu rt 1 36 ra...   \n",
       "POI/street                                       /kem mel raya   \n",
       "\n",
       "id                                 7                      8                 9  \n",
       "raw_address  tela keuramat kuta alam  gg. i wates magersari  bunga ncole ix 2  \n",
       "POI/street                     /tela                 /gg. i   /bunga ncole ix  "
      ]
     },
     "execution_count": 34,
     "metadata": {},
     "output_type": "execute_result"
    }
   ],
   "source": [
    "data.head(10).T"
   ]
  },
  {
   "cell_type": "markdown",
   "metadata": {},
   "source": [
    "### Check Missing Data "
   ]
  },
  {
   "cell_type": "code",
   "execution_count": 26,
   "metadata": {},
   "outputs": [
    {
     "data": {
      "text/plain": [
       "raw_address    0\n",
       "POI/street     0\n",
       "dtype: int64"
      ]
     },
     "execution_count": 26,
     "metadata": {},
     "output_type": "execute_result"
    }
   ],
   "source": [
    "data.isnull().sum()"
   ]
  },
  {
   "cell_type": "code",
   "execution_count": 27,
   "metadata": {},
   "outputs": [
    {
     "name": "stdout",
     "output_type": "stream",
     "text": [
      "<class 'pandas.core.frame.DataFrame'>\n",
      "Int64Index: 300000 entries, 0 to 299999\n",
      "Data columns (total 2 columns):\n",
      " #   Column       Non-Null Count   Dtype \n",
      "---  ------       --------------   ----- \n",
      " 0   raw_address  300000 non-null  object\n",
      " 1   POI/street   300000 non-null  object\n",
      "dtypes: object(2)\n",
      "memory usage: 6.9+ MB\n"
     ]
    }
   ],
   "source": [
    "data.info()"
   ]
  },
  {
   "cell_type": "code",
   "execution_count": 14,
   "metadata": {},
   "outputs": [
    {
     "data": {
      "text/plain": [
       "pempek mer, l. l. r. e. martad, citarum bandung wetan                 0.000003\n",
       "hilir kantor m. yasin 57 78753 putussibau utara                       0.000003\n",
       "dormitory nk, paritohan camp (pt inalum), kec. pintu pohan meranti    0.000003\n",
       "kamp par kuj gunung putri                                             0.000003\n",
       "suta jend sudi tembilahan kota                                        0.000003\n",
       "                                                                        ...   \n",
       "bro gg. 5 17 65314 batu                                               0.000003\n",
       "raya ser, no 1 sum karya kimia pd                                     0.000003\n",
       "baro serv elektronik r e martad,                                      0.000003\n",
       "nasi 5 199 kotakulon                                                  0.000003\n",
       "rogu food and beverage produc beng semp,                              0.000003\n",
       "Name: raw_address, Length: 300000, dtype: float64"
      ]
     },
     "execution_count": 14,
     "metadata": {},
     "output_type": "execute_result"
    }
   ],
   "source": [
    "data['raw_address'].value_counts(normalize=True)"
   ]
  },
  {
   "cell_type": "code",
   "execution_count": 29,
   "metadata": {},
   "outputs": [
    {
     "data": {
      "text/plain": [
       "Int64Index([     0,      1,      2,      3,      4,      5,      6,      7,\n",
       "                 8,      9,\n",
       "            ...\n",
       "            299990, 299991, 299992, 299993, 299994, 299995, 299996, 299997,\n",
       "            299998, 299999],\n",
       "           dtype='int64', name='id', length=300000)"
      ]
     },
     "execution_count": 29,
     "metadata": {},
     "output_type": "execute_result"
    }
   ],
   "source": [
    "data.index"
   ]
  }
 ],
 "metadata": {
  "kernelspec": {
   "display_name": "Python (sandbox)",
   "language": "python",
   "name": "sandbox"
  },
  "language_info": {
   "codemirror_mode": {
    "name": "ipython",
    "version": 3
   },
   "file_extension": ".py",
   "mimetype": "text/x-python",
   "name": "python",
   "nbconvert_exporter": "python",
   "pygments_lexer": "ipython3",
   "version": "3.7.8"
  }
 },
 "nbformat": 4,
 "nbformat_minor": 4
}
